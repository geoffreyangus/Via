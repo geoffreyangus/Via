{
 "cells": [
  {
   "cell_type": "code",
   "execution_count": 32,
   "metadata": {},
   "outputs": [
    {
     "name": "stdout",
     "output_type": "stream",
     "text": [
      "The autoreload extension is already loaded. To reload it, use:\n",
      "  %reload_ext autoreload\n"
     ]
    }
   ],
   "source": [
    "%load_ext autoreload\n",
    "%autoreload 2\n",
    "\n",
    "import os\n",
    "import json\n",
    "\n",
    "from via.util.util import get_networkx_graph\n",
    "from via.analysis.pagerank import run_pagerank_recommender\n",
    "from via.analysis.metrics import top_k_out_degree\n",
    "\n",
    "os.chdir('/Users/geoffreyangus/research-repositories/via')"
   ]
  },
  {
   "cell_type": "code",
   "execution_count": 33,
   "metadata": {},
   "outputs": [],
   "source": [
    "g = get_networkx_graph('experiments/sample')"
   ]
  },
  {
   "cell_type": "code",
   "execution_count": 34,
   "metadata": {},
   "outputs": [
    {
     "name": "stderr",
     "output_type": "stream",
     "text": [
      "100%|██████████| 97/97 [00:03<00:00, 27.96it/s]\n"
     ]
    },
    {
     "data": {
      "text/plain": [
       "{'max_node': 'CS161', 'target_pagerank': 0.03776065997130511}"
      ]
     },
     "execution_count": 34,
     "metadata": {},
     "output_type": "execute_result"
    }
   ],
   "source": [
    "run_pagerank_recommender(g, 'CS221', ['CS106A', 'CS106B', 'CS107'])"
   ]
  },
  {
   "cell_type": "code",
   "execution_count": 37,
   "metadata": {},
   "outputs": [
    {
     "name": "stdout",
     "output_type": "stream",
     "text": [
      "{\n",
      "    \"CS106A\": [\n",
      "        [\n",
      "            \"CS106B\",\n",
      "            0.45873452544704263\n",
      "        ],\n",
      "        [\n",
      "            \"CS107\",\n",
      "            0.2046767537826685\n",
      "        ],\n",
      "        [\n",
      "            \"CS103\",\n",
      "            0.18803301237964237\n",
      "        ],\n",
      "        [\n",
      "            \"MATH51\",\n",
      "            0.14085281980742778\n",
      "        ],\n",
      "        [\n",
      "            \"PHYSICS41\",\n",
      "            0.13480055020632736\n",
      "        ]\n",
      "    ],\n",
      "    \"CS106B\": [\n",
      "        [\n",
      "            \"CS107\",\n",
      "            0.4748302037554934\n",
      "        ],\n",
      "        [\n",
      "            \"CS103\",\n",
      "            0.36016779864163007\n",
      "        ],\n",
      "        [\n",
      "            \"CS109\",\n",
      "            0.23252097483020376\n",
      "        ],\n",
      "        [\n",
      "            \"<END>\",\n",
      "            0.16080703156212545\n",
      "        ],\n",
      "        [\n",
      "            \"CS110\",\n",
      "            0.14382740711146624\n",
      "        ]\n",
      "    ]\n",
      "}\n"
     ]
    }
   ],
   "source": [
    "print(json.dumps(top_k_out_degree(g, ['CS106A', 'CS106B'], k=5), indent=4))"
   ]
  },
  {
   "cell_type": "code",
   "execution_count": null,
   "metadata": {},
   "outputs": [],
   "source": []
  }
 ],
 "metadata": {
  "kernelspec": {
   "display_name": "Python 3",
   "language": "python",
   "name": "python3"
  },
  "language_info": {
   "codemirror_mode": {
    "name": "ipython",
    "version": 3
   },
   "file_extension": ".py",
   "mimetype": "text/x-python",
   "name": "python",
   "nbconvert_exporter": "python",
   "pygments_lexer": "ipython3",
   "version": "3.7.3"
  }
 },
 "nbformat": 4,
 "nbformat_minor": 4
}
